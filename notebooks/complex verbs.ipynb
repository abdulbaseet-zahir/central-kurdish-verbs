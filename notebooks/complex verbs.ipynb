{
 "cells": [
  {
   "cell_type": "code",
   "execution_count": 1,
   "id": "0978fcd9",
   "metadata": {},
   "outputs": [],
   "source": [
    "from itertools import product\n",
    "import pandas as pd\n",
    "import re\n",
    "from collections import Counter\n",
    "\n",
    "pd.set_option('display.max_rows', None)"
   ]
  },
  {
   "cell_type": "code",
   "execution_count": 2,
   "id": "fb99a227",
   "metadata": {},
   "outputs": [
    {
     "data": {
      "text/plain": [
       "'D:\\\\central-kurdish-verbs\\\\files'"
      ]
     },
     "execution_count": 2,
     "metadata": {},
     "output_type": "execute_result"
    }
   ],
   "source": [
    "import os\n",
    "files = os.path.abspath(os.path.join('../files/'))\n",
    "files"
   ]
  },
  {
   "cell_type": "code",
   "execution_count": 3,
   "id": "6dd56664",
   "metadata": {},
   "outputs": [],
   "source": [
    "def get_verb_text_file_as_df(path):\n",
    "    with open(f\"{files}/{path}\", \"r\", encoding=\"utf-8\") as f:\n",
    "        lines = f.read().split(\"\\n\")\n",
    "\n",
    "        data = []\n",
    "        \n",
    "        for line in lines:\n",
    "            \n",
    "            if not line.startswith(\"#\") and not line == \"\":\n",
    "                \n",
    "                splited_line = line.split()\n",
    "                \n",
    "                data.append({\n",
    "                    \"Infinitive\": splited_line[0],\n",
    "                    \"Past\": splited_line[1],\n",
    "                    \"Present\": splited_line[2],\n",
    "                    \"Intran|Tran\": splited_line[3],\n",
    "                })\n",
    "                \n",
    "        return pd.DataFrame(data)\n",
    "    \n",
    "def df_verb_to_text_file(df, path):\n",
    "    \n",
    "    \n",
    "    with open(f\"{files}/{path}\", \"a\", encoding=\"utf-8\") as f:\n",
    "        \n",
    "        f.write(\"\\n\"*5)\n",
    "        f.write(\"###\"+str(len(df))+\"###\\n\")\n",
    "        f.write(\"\\n\")\n",
    "        \n",
    "        for row in df.to_dict(\"records\"):\n",
    "            infinitive = row[\"Infinitive\"]\n",
    "            past = row[\"Past\"]\n",
    "            present = row[\"Present\"]\n",
    "            intran_tran = row[\"Intran|Tran\"]\n",
    "            \n",
    "            f.write(f\"{infinitive} {past} {present} {intran_tran}\\n\")\n"
   ]
  },
  {
   "cell_type": "code",
   "execution_count": 4,
   "id": "c03ed28e",
   "metadata": {},
   "outputs": [],
   "source": [
    "def clean_text(word):\n",
    "    look_up = {\n",
    "        \"اا\": \"ا\",\n",
    "        \"ۆا\": \"وا\",\n",
    "        \"ووا\": \"وا\",\n",
    "        \"ەا\": \"ەیا\",\n",
    "        \"ێا\": \"ێیا\",\n",
    "        \"ەێ\": \"ەیێ\",\n",
    "        \"ێێ\": \"ێیێ\",\n",
    "#         \"\": \"\",\n",
    "#         \"\": \"\",\n",
    "#         \"\": \"\",\n",
    "#         \"\": \"\",\n",
    "#         \"\": \"\",\n",
    "#         \"\": \"\",\n",
    "    }\n",
    "    \n",
    "    for key, val in look_up.items():\n",
    "        if key in word:\n",
    "            word = word.replace(key, val)\n",
    "    \n",
    "    return word"
   ]
  },
  {
   "cell_type": "code",
   "execution_count": 5,
   "id": "a8d4cbe4",
   "metadata": {},
   "outputs": [],
   "source": [
    "def generated_by_affixes(data_df, prefixes, sufixes):\n",
    "    \n",
    "    generated = []\n",
    "\n",
    "    for row in data_df.to_dict(\"records\")[:]:\n",
    "\n",
    "        # For infinitives\n",
    "        infinitive_forms = []\n",
    "        for form in product(prefixes, [row[\"Infinitive\"]], sufixes):\n",
    "            form = list(form)\n",
    "\n",
    "            while \"\" in form:\n",
    "                form.remove(\"\")\n",
    "\n",
    "            form = \"\".join(form) # for separating infinitives use \"_\" here too\n",
    "\n",
    "            if form != row[\"Infinitive\"]:\n",
    "                infinitive_forms.append(form)\n",
    "\n",
    "        # For past forms\n",
    "        past_forms = []\n",
    "        for form in product(prefixes, [row[\"Past\"]], sufixes):\n",
    "            form = list(form)\n",
    "\n",
    "            while \"\" in form:\n",
    "                form.remove(\"\")\n",
    "\n",
    "            form = \"_\".join(form)\n",
    "\n",
    "            if form != row[\"Past\"]:\n",
    "                past_forms.append(form)\n",
    "\n",
    "        # For present forms\n",
    "        present_forms = []\n",
    "        for form in product(prefixes, [row[\"Present\"]], sufixes):\n",
    "            form = list(form)\n",
    "\n",
    "            while \"\" in form:\n",
    "                form.remove(\"\")\n",
    "\n",
    "            form = \"_\".join(form)\n",
    "\n",
    "            if form != row[\"Present\"]:\n",
    "                present_forms.append(form)\n",
    "\n",
    "\n",
    "        for index in range(len(infinitive_forms)):\n",
    "\n",
    "                generated.append({\n",
    "                    \"Infinitive\": infinitive_forms[index],\n",
    "                    \"Past\": past_forms[index],\n",
    "                    \"Present\": present_forms[index],\n",
    "                    \"Intran|Tran\": row[\"Intran|Tran\"],\n",
    "                })\n",
    "    \n",
    "    generated_df = pd.DataFrame(generated)\n",
    "    \n",
    "    return generated_df"
   ]
  },
  {
   "cell_type": "markdown",
   "id": "c8d00d2a",
   "metadata": {},
   "source": [
    "## Loading Simple Verbs"
   ]
  },
  {
   "cell_type": "code",
   "execution_count": 6,
   "id": "c0324418",
   "metadata": {},
   "outputs": [],
   "source": [
    "data_df = get_verb_text_file_as_df(\"CKB (simple verbs).txt\")"
   ]
  },
  {
   "cell_type": "code",
   "execution_count": 7,
   "id": "db5fe338",
   "metadata": {
    "scrolled": true
   },
   "outputs": [
    {
     "data": {
      "text/html": [
       "<div>\n",
       "<style scoped>\n",
       "    .dataframe tbody tr th:only-of-type {\n",
       "        vertical-align: middle;\n",
       "    }\n",
       "\n",
       "    .dataframe tbody tr th {\n",
       "        vertical-align: top;\n",
       "    }\n",
       "\n",
       "    .dataframe thead th {\n",
       "        text-align: right;\n",
       "    }\n",
       "</style>\n",
       "<table border=\"1\" class=\"dataframe\">\n",
       "  <thead>\n",
       "    <tr style=\"text-align: right;\">\n",
       "      <th></th>\n",
       "      <th>Infinitive</th>\n",
       "      <th>Past</th>\n",
       "      <th>Present</th>\n",
       "      <th>Intran|Tran</th>\n",
       "    </tr>\n",
       "  </thead>\n",
       "  <tbody>\n",
       "    <tr>\n",
       "      <th>0</th>\n",
       "      <td>کردن</td>\n",
       "      <td>کرد</td>\n",
       "      <td>کە</td>\n",
       "      <td>1</td>\n",
       "    </tr>\n",
       "    <tr>\n",
       "      <th>1</th>\n",
       "      <td>کڕین</td>\n",
       "      <td>کڕی</td>\n",
       "      <td>کڕ</td>\n",
       "      <td>1</td>\n",
       "    </tr>\n",
       "    <tr>\n",
       "      <th>2</th>\n",
       "      <td>فڕین</td>\n",
       "      <td>فڕی</td>\n",
       "      <td>فڕ</td>\n",
       "      <td>0</td>\n",
       "    </tr>\n",
       "    <tr>\n",
       "      <th>3</th>\n",
       "      <td>گرتن</td>\n",
       "      <td>گرت</td>\n",
       "      <td>گر</td>\n",
       "      <td>1</td>\n",
       "    </tr>\n",
       "    <tr>\n",
       "      <th>4</th>\n",
       "      <td>کەوتن</td>\n",
       "      <td>کەوت</td>\n",
       "      <td>کەو</td>\n",
       "      <td>0</td>\n",
       "    </tr>\n",
       "    <tr>\n",
       "      <th>5</th>\n",
       "      <td>دان</td>\n",
       "      <td>دا</td>\n",
       "      <td>دە</td>\n",
       "      <td>1</td>\n",
       "    </tr>\n",
       "    <tr>\n",
       "      <th>6</th>\n",
       "      <td>بارین</td>\n",
       "      <td>باری</td>\n",
       "      <td>بار</td>\n",
       "      <td>0</td>\n",
       "    </tr>\n",
       "    <tr>\n",
       "      <th>7</th>\n",
       "      <td>بەستن</td>\n",
       "      <td>بەست</td>\n",
       "      <td>بەست</td>\n",
       "      <td>1</td>\n",
       "    </tr>\n",
       "    <tr>\n",
       "      <th>8</th>\n",
       "      <td>پێوان</td>\n",
       "      <td>پێوا</td>\n",
       "      <td>پێو</td>\n",
       "      <td>1</td>\n",
       "    </tr>\n",
       "    <tr>\n",
       "      <th>9</th>\n",
       "      <td>بردن</td>\n",
       "      <td>برد</td>\n",
       "      <td>بە</td>\n",
       "      <td>1</td>\n",
       "    </tr>\n",
       "  </tbody>\n",
       "</table>\n",
       "</div>"
      ],
      "text/plain": [
       "  Infinitive  Past Present Intran|Tran\n",
       "0       کردن   کرد      کە           1\n",
       "1       کڕین   کڕی      کڕ           1\n",
       "2       فڕین   فڕی      فڕ           0\n",
       "3       گرتن   گرت      گر           1\n",
       "4      کەوتن  کەوت     کەو           0\n",
       "5        دان    دا      دە           1\n",
       "6      بارین  باری     بار           0\n",
       "7      بەستن  بەست    بەست           1\n",
       "8      پێوان  پێوا     پێو           1\n",
       "9       بردن   برد      بە           1"
      ]
     },
     "execution_count": 7,
     "metadata": {},
     "output_type": "execute_result"
    }
   ],
   "source": [
    "data_df.head(10)"
   ]
  },
  {
   "cell_type": "code",
   "execution_count": null,
   "id": "cec2346e",
   "metadata": {},
   "outputs": [],
   "source": []
  },
  {
   "cell_type": "markdown",
   "id": "196eff25",
   "metadata": {},
   "source": [
    "## Generating Complex Verbs"
   ]
  },
  {
   "cell_type": "markdown",
   "id": "a83fb255",
   "metadata": {},
   "source": [
    "#### Converting Intransitive to Transitive verbs by adding (اندن)"
   ]
  },
  {
   "cell_type": "code",
   "execution_count": 8,
   "id": "b896bc64",
   "metadata": {},
   "outputs": [],
   "source": [
    "andin = \"اندن\"\n",
    "din = \"دن\"\n",
    "\n",
    "new_andin_data = []\n",
    "\n",
    "for row in data_df.to_dict(\"records\"):\n",
    "    if int(row[\"Intran|Tran\"]) == 0:\n",
    "        \n",
    "        new_present = row[\"Present\"]\n",
    "        if len(new_present)>1:\n",
    "            new_present = re.sub(\"ێ$\", \"\", row[\"Present\"])\n",
    "        \n",
    "        new_infinitive = new_present+andin\n",
    "        new_infinitive = clean_text(new_infinitive)\n",
    "\n",
    "        new_present = new_present+\"ێن\"\n",
    "        new_present = clean_text(new_present)\n",
    "        \n",
    "        new_andin_data.append({\n",
    "            \"Infinitive\": new_infinitive,\n",
    "            \"Past\": new_infinitive[:-1],\n",
    "            \"Present\": new_present,\n",
    "            \"Intran|Tran\": \"1\",\n",
    "        })"
   ]
  },
  {
   "cell_type": "code",
   "execution_count": 9,
   "id": "2bf0dd0d",
   "metadata": {},
   "outputs": [
    {
     "data": {
      "text/html": [
       "<div>\n",
       "<style scoped>\n",
       "    .dataframe tbody tr th:only-of-type {\n",
       "        vertical-align: middle;\n",
       "    }\n",
       "\n",
       "    .dataframe tbody tr th {\n",
       "        vertical-align: top;\n",
       "    }\n",
       "\n",
       "    .dataframe thead th {\n",
       "        text-align: right;\n",
       "    }\n",
       "</style>\n",
       "<table border=\"1\" class=\"dataframe\">\n",
       "  <thead>\n",
       "    <tr style=\"text-align: right;\">\n",
       "      <th></th>\n",
       "      <th>Infinitive</th>\n",
       "      <th>Past</th>\n",
       "      <th>Present</th>\n",
       "      <th>Intran|Tran</th>\n",
       "    </tr>\n",
       "  </thead>\n",
       "  <tbody>\n",
       "    <tr>\n",
       "      <th>0</th>\n",
       "      <td>فڕاندن</td>\n",
       "      <td>فڕاند</td>\n",
       "      <td>فڕێن</td>\n",
       "      <td>1</td>\n",
       "    </tr>\n",
       "    <tr>\n",
       "      <th>1</th>\n",
       "      <td>کەواندن</td>\n",
       "      <td>کەواند</td>\n",
       "      <td>کەوێن</td>\n",
       "      <td>1</td>\n",
       "    </tr>\n",
       "    <tr>\n",
       "      <th>2</th>\n",
       "      <td>باراندن</td>\n",
       "      <td>باراند</td>\n",
       "      <td>بارێن</td>\n",
       "      <td>1</td>\n",
       "    </tr>\n",
       "    <tr>\n",
       "      <th>3</th>\n",
       "      <td>باندن</td>\n",
       "      <td>باند</td>\n",
       "      <td>بێن</td>\n",
       "      <td>1</td>\n",
       "    </tr>\n",
       "    <tr>\n",
       "      <th>4</th>\n",
       "      <td>چاندن</td>\n",
       "      <td>چاند</td>\n",
       "      <td>چێن</td>\n",
       "      <td>1</td>\n",
       "    </tr>\n",
       "  </tbody>\n",
       "</table>\n",
       "</div>"
      ],
      "text/plain": [
       "  Infinitive    Past Present Intran|Tran\n",
       "0     فڕاندن   فڕاند    فڕێن           1\n",
       "1    کەواندن  کەواند   کەوێن           1\n",
       "2    باراندن  باراند   بارێن           1\n",
       "3      باندن    باند     بێن           1\n",
       "4      چاندن    چاند     چێن           1"
      ]
     },
     "execution_count": 9,
     "metadata": {},
     "output_type": "execute_result"
    }
   ],
   "source": [
    "new_andin_data_df = pd.DataFrame(new_andin_data)\n",
    "new_andin_data_df.head(5)"
   ]
  },
  {
   "cell_type": "code",
   "execution_count": 10,
   "id": "0fa54fec",
   "metadata": {},
   "outputs": [],
   "source": [
    "df_verb_to_text_file(new_andin_data_df, \"CKB (complex verbs).txt\")"
   ]
  },
  {
   "cell_type": "markdown",
   "id": "db912104",
   "metadata": {},
   "source": [
    "#### Generating Complex Verbs by adding (ەوە)"
   ]
  },
  {
   "cell_type": "code",
   "execution_count": 11,
   "id": "14c3def1",
   "metadata": {},
   "outputs": [],
   "source": [
    "new_data_for_awa = data_df.append(new_andin_data_df, ignore_index=True)"
   ]
  },
  {
   "cell_type": "code",
   "execution_count": 12,
   "id": "9e008f6a",
   "metadata": {},
   "outputs": [
    {
     "data": {
      "text/html": [
       "<div>\n",
       "<style scoped>\n",
       "    .dataframe tbody tr th:only-of-type {\n",
       "        vertical-align: middle;\n",
       "    }\n",
       "\n",
       "    .dataframe tbody tr th {\n",
       "        vertical-align: top;\n",
       "    }\n",
       "\n",
       "    .dataframe thead th {\n",
       "        text-align: right;\n",
       "    }\n",
       "</style>\n",
       "<table border=\"1\" class=\"dataframe\">\n",
       "  <thead>\n",
       "    <tr style=\"text-align: right;\">\n",
       "      <th></th>\n",
       "      <th>Infinitive</th>\n",
       "      <th>Past</th>\n",
       "      <th>Present</th>\n",
       "      <th>Intran|Tran</th>\n",
       "    </tr>\n",
       "  </thead>\n",
       "  <tbody>\n",
       "    <tr>\n",
       "      <th>0</th>\n",
       "      <td>کردن</td>\n",
       "      <td>کرد</td>\n",
       "      <td>کە</td>\n",
       "      <td>1</td>\n",
       "    </tr>\n",
       "    <tr>\n",
       "      <th>1</th>\n",
       "      <td>کڕین</td>\n",
       "      <td>کڕی</td>\n",
       "      <td>کڕ</td>\n",
       "      <td>1</td>\n",
       "    </tr>\n",
       "    <tr>\n",
       "      <th>2</th>\n",
       "      <td>فڕین</td>\n",
       "      <td>فڕی</td>\n",
       "      <td>فڕ</td>\n",
       "      <td>0</td>\n",
       "    </tr>\n",
       "    <tr>\n",
       "      <th>3</th>\n",
       "      <td>گرتن</td>\n",
       "      <td>گرت</td>\n",
       "      <td>گر</td>\n",
       "      <td>1</td>\n",
       "    </tr>\n",
       "    <tr>\n",
       "      <th>4</th>\n",
       "      <td>کەوتن</td>\n",
       "      <td>کەوت</td>\n",
       "      <td>کەو</td>\n",
       "      <td>0</td>\n",
       "    </tr>\n",
       "  </tbody>\n",
       "</table>\n",
       "</div>"
      ],
      "text/plain": [
       "  Infinitive  Past Present Intran|Tran\n",
       "0       کردن   کرد      کە           1\n",
       "1       کڕین   کڕی      کڕ           1\n",
       "2       فڕین   فڕی      فڕ           0\n",
       "3       گرتن   گرت      گر           1\n",
       "4      کەوتن  کەوت     کەو           0"
      ]
     },
     "execution_count": 12,
     "metadata": {},
     "output_type": "execute_result"
    }
   ],
   "source": [
    "new_data_for_awa.head(5)"
   ]
  },
  {
   "cell_type": "code",
   "execution_count": 13,
   "id": "3877e233",
   "metadata": {},
   "outputs": [],
   "source": [
    "awa = \"ەوە\"\n",
    "\n",
    "new_awa_data = []\n",
    "\n",
    "for row in new_data_for_awa.to_dict(\"records\"):\n",
    "        \n",
    "    infinitive = row[\"Infinitive\"]\n",
    "    past = row[\"Past\"]\n",
    "    present = row[\"Present\"]\n",
    "    intran_tran = row[\"Intran|Tran\"]\n",
    "\n",
    "    new_awa_data.append({\n",
    "        \"Infinitive\": infinitive+awa,\n",
    "        \"Past\": past+\"_\"+awa,\n",
    "        \"Present\": (present+\"_\"+awa),\n",
    "        \"Intran|Tran\": intran_tran,\n",
    "    })"
   ]
  },
  {
   "cell_type": "code",
   "execution_count": 14,
   "id": "5e1e9f07",
   "metadata": {},
   "outputs": [
    {
     "data": {
      "text/html": [
       "<div>\n",
       "<style scoped>\n",
       "    .dataframe tbody tr th:only-of-type {\n",
       "        vertical-align: middle;\n",
       "    }\n",
       "\n",
       "    .dataframe tbody tr th {\n",
       "        vertical-align: top;\n",
       "    }\n",
       "\n",
       "    .dataframe thead th {\n",
       "        text-align: right;\n",
       "    }\n",
       "</style>\n",
       "<table border=\"1\" class=\"dataframe\">\n",
       "  <thead>\n",
       "    <tr style=\"text-align: right;\">\n",
       "      <th></th>\n",
       "      <th>Infinitive</th>\n",
       "      <th>Past</th>\n",
       "      <th>Present</th>\n",
       "      <th>Intran|Tran</th>\n",
       "    </tr>\n",
       "  </thead>\n",
       "  <tbody>\n",
       "    <tr>\n",
       "      <th>0</th>\n",
       "      <td>کردنەوە</td>\n",
       "      <td>کرد_ەوە</td>\n",
       "      <td>کە_ەوە</td>\n",
       "      <td>1</td>\n",
       "    </tr>\n",
       "    <tr>\n",
       "      <th>1</th>\n",
       "      <td>کڕینەوە</td>\n",
       "      <td>کڕی_ەوە</td>\n",
       "      <td>کڕ_ەوە</td>\n",
       "      <td>1</td>\n",
       "    </tr>\n",
       "    <tr>\n",
       "      <th>2</th>\n",
       "      <td>فڕینەوە</td>\n",
       "      <td>فڕی_ەوە</td>\n",
       "      <td>فڕ_ەوە</td>\n",
       "      <td>0</td>\n",
       "    </tr>\n",
       "    <tr>\n",
       "      <th>3</th>\n",
       "      <td>گرتنەوە</td>\n",
       "      <td>گرت_ەوە</td>\n",
       "      <td>گر_ەوە</td>\n",
       "      <td>1</td>\n",
       "    </tr>\n",
       "    <tr>\n",
       "      <th>4</th>\n",
       "      <td>کەوتنەوە</td>\n",
       "      <td>کەوت_ەوە</td>\n",
       "      <td>کەو_ەوە</td>\n",
       "      <td>0</td>\n",
       "    </tr>\n",
       "  </tbody>\n",
       "</table>\n",
       "</div>"
      ],
      "text/plain": [
       "  Infinitive      Past  Present Intran|Tran\n",
       "0    کردنەوە   کرد_ەوە   کە_ەوە           1\n",
       "1    کڕینەوە   کڕی_ەوە   کڕ_ەوە           1\n",
       "2    فڕینەوە   فڕی_ەوە   فڕ_ەوە           0\n",
       "3    گرتنەوە   گرت_ەوە   گر_ەوە           1\n",
       "4   کەوتنەوە  کەوت_ەوە  کەو_ەوە           0"
      ]
     },
     "execution_count": 14,
     "metadata": {},
     "output_type": "execute_result"
    }
   ],
   "source": [
    "new_awa_data_df = pd.DataFrame(new_awa_data)\n",
    "new_awa_data_df.head(5)"
   ]
  },
  {
   "cell_type": "code",
   "execution_count": 15,
   "id": "6a79de9c",
   "metadata": {},
   "outputs": [],
   "source": [
    "df_verb_to_text_file(new_awa_data_df, \"CKB (complex verbs).txt\")"
   ]
  },
  {
   "cell_type": "code",
   "execution_count": null,
   "id": "36dede9c",
   "metadata": {},
   "outputs": [],
   "source": []
  },
  {
   "cell_type": "markdown",
   "id": "c3868b4b",
   "metadata": {},
   "source": [
    "#### Generating Complex Verbs by adding (ڕا هەڵ دا ڕۆ وەر ڕێ پێ تێ لێ وێ )"
   ]
  },
  {
   "cell_type": "code",
   "execution_count": 16,
   "id": "510f2b3e",
   "metadata": {},
   "outputs": [],
   "source": [
    "data_df = data_df.append(new_andin_data_df)"
   ]
  },
  {
   "cell_type": "code",
   "execution_count": 17,
   "id": "e2d12dc6",
   "metadata": {},
   "outputs": [],
   "source": [
    "prefixes = \"ڕا هەڵ دا ڕۆ وەر ڕێ پێ تێ لێ وێ\".split()\n",
    "prefixes.append(\"\")\n",
    "\n",
    "sufixes = \"ەوە\".split()\n",
    "sufixes.append(\"\")"
   ]
  },
  {
   "cell_type": "code",
   "execution_count": 18,
   "id": "d4f9e22f",
   "metadata": {},
   "outputs": [],
   "source": [
    "generated_df = generated_by_affixes(data_df, prefixes, sufixes)"
   ]
  },
  {
   "cell_type": "code",
   "execution_count": 19,
   "id": "41af9780",
   "metadata": {},
   "outputs": [
    {
     "data": {
      "text/html": [
       "<div>\n",
       "<style scoped>\n",
       "    .dataframe tbody tr th:only-of-type {\n",
       "        vertical-align: middle;\n",
       "    }\n",
       "\n",
       "    .dataframe tbody tr th {\n",
       "        vertical-align: top;\n",
       "    }\n",
       "\n",
       "    .dataframe thead th {\n",
       "        text-align: right;\n",
       "    }\n",
       "</style>\n",
       "<table border=\"1\" class=\"dataframe\">\n",
       "  <thead>\n",
       "    <tr style=\"text-align: right;\">\n",
       "      <th></th>\n",
       "      <th>Infinitive</th>\n",
       "      <th>Past</th>\n",
       "      <th>Present</th>\n",
       "      <th>Intran|Tran</th>\n",
       "    </tr>\n",
       "  </thead>\n",
       "  <tbody>\n",
       "    <tr>\n",
       "      <th>0</th>\n",
       "      <td>ڕاکردنەوە</td>\n",
       "      <td>ڕا_کرد_ەوە</td>\n",
       "      <td>ڕا_کە_ەوە</td>\n",
       "      <td>1</td>\n",
       "    </tr>\n",
       "    <tr>\n",
       "      <th>1</th>\n",
       "      <td>ڕاکردن</td>\n",
       "      <td>ڕا_کرد</td>\n",
       "      <td>ڕا_کە</td>\n",
       "      <td>1</td>\n",
       "    </tr>\n",
       "    <tr>\n",
       "      <th>2</th>\n",
       "      <td>هەڵکردنەوە</td>\n",
       "      <td>هەڵ_کرد_ەوە</td>\n",
       "      <td>هەڵ_کە_ەوە</td>\n",
       "      <td>1</td>\n",
       "    </tr>\n",
       "    <tr>\n",
       "      <th>3</th>\n",
       "      <td>هەڵکردن</td>\n",
       "      <td>هەڵ_کرد</td>\n",
       "      <td>هەڵ_کە</td>\n",
       "      <td>1</td>\n",
       "    </tr>\n",
       "    <tr>\n",
       "      <th>4</th>\n",
       "      <td>داکردنەوە</td>\n",
       "      <td>دا_کرد_ەوە</td>\n",
       "      <td>دا_کە_ەوە</td>\n",
       "      <td>1</td>\n",
       "    </tr>\n",
       "  </tbody>\n",
       "</table>\n",
       "</div>"
      ],
      "text/plain": [
       "   Infinitive         Past     Present Intran|Tran\n",
       "0   ڕاکردنەوە   ڕا_کرد_ەوە   ڕا_کە_ەوە           1\n",
       "1      ڕاکردن       ڕا_کرد       ڕا_کە           1\n",
       "2  هەڵکردنەوە  هەڵ_کرد_ەوە  هەڵ_کە_ەوە           1\n",
       "3     هەڵکردن      هەڵ_کرد      هەڵ_کە           1\n",
       "4   داکردنەوە   دا_کرد_ەوە   دا_کە_ەوە           1"
      ]
     },
     "execution_count": 19,
     "metadata": {},
     "output_type": "execute_result"
    }
   ],
   "source": [
    "generated_df.head(5)"
   ]
  },
  {
   "cell_type": "code",
   "execution_count": 20,
   "id": "a5990f0d",
   "metadata": {},
   "outputs": [],
   "source": [
    "df_verb_to_text_file(generated_df, \"CKB (complex verbs).txt\")"
   ]
  },
  {
   "cell_type": "code",
   "execution_count": null,
   "id": "48e6c508",
   "metadata": {},
   "outputs": [],
   "source": []
  },
  {
   "cell_type": "code",
   "execution_count": null,
   "id": "b14f32ae",
   "metadata": {},
   "outputs": [],
   "source": []
  },
  {
   "cell_type": "markdown",
   "id": "d019c26d",
   "metadata": {},
   "source": [
    "#### Generating Complex Verbs by adding (پێدا پێوە تێدا تێوە پێڕا تێڕا لێڕا پێک تێک لێک وێک ڕێک )"
   ]
  },
  {
   "cell_type": "code",
   "execution_count": 21,
   "id": "9052a6a0",
   "metadata": {},
   "outputs": [],
   "source": [
    "prefixes = \"پێدا پێوە تێدا تێوە پێڕا تێڕا لێڕا پێک تێک لێک وێک ڕێک\".split()\n",
    "prefixes.append(\"\")\n",
    "\n",
    "sufixes = \"ەوە\".split()\n",
    "sufixes.append(\"\")"
   ]
  },
  {
   "cell_type": "code",
   "execution_count": 22,
   "id": "700d336d",
   "metadata": {},
   "outputs": [],
   "source": [
    "generated_df = generated_by_affixes(data_df, prefixes, sufixes)"
   ]
  },
  {
   "cell_type": "code",
   "execution_count": 23,
   "id": "4ae93bfb",
   "metadata": {},
   "outputs": [
    {
     "data": {
      "text/html": [
       "<div>\n",
       "<style scoped>\n",
       "    .dataframe tbody tr th:only-of-type {\n",
       "        vertical-align: middle;\n",
       "    }\n",
       "\n",
       "    .dataframe tbody tr th {\n",
       "        vertical-align: top;\n",
       "    }\n",
       "\n",
       "    .dataframe thead th {\n",
       "        text-align: right;\n",
       "    }\n",
       "</style>\n",
       "<table border=\"1\" class=\"dataframe\">\n",
       "  <thead>\n",
       "    <tr style=\"text-align: right;\">\n",
       "      <th></th>\n",
       "      <th>Infinitive</th>\n",
       "      <th>Past</th>\n",
       "      <th>Present</th>\n",
       "      <th>Intran|Tran</th>\n",
       "    </tr>\n",
       "  </thead>\n",
       "  <tbody>\n",
       "    <tr>\n",
       "      <th>0</th>\n",
       "      <td>پێداکردنەوە</td>\n",
       "      <td>پێدا_کرد_ەوە</td>\n",
       "      <td>پێدا_کە_ەوە</td>\n",
       "      <td>1</td>\n",
       "    </tr>\n",
       "    <tr>\n",
       "      <th>1</th>\n",
       "      <td>پێداکردن</td>\n",
       "      <td>پێدا_کرد</td>\n",
       "      <td>پێدا_کە</td>\n",
       "      <td>1</td>\n",
       "    </tr>\n",
       "    <tr>\n",
       "      <th>2</th>\n",
       "      <td>پێوەکردنەوە</td>\n",
       "      <td>پێوە_کرد_ەوە</td>\n",
       "      <td>پێوە_کە_ەوە</td>\n",
       "      <td>1</td>\n",
       "    </tr>\n",
       "    <tr>\n",
       "      <th>3</th>\n",
       "      <td>پێوەکردن</td>\n",
       "      <td>پێوە_کرد</td>\n",
       "      <td>پێوە_کە</td>\n",
       "      <td>1</td>\n",
       "    </tr>\n",
       "    <tr>\n",
       "      <th>4</th>\n",
       "      <td>تێداکردنەوە</td>\n",
       "      <td>تێدا_کرد_ەوە</td>\n",
       "      <td>تێدا_کە_ەوە</td>\n",
       "      <td>1</td>\n",
       "    </tr>\n",
       "  </tbody>\n",
       "</table>\n",
       "</div>"
      ],
      "text/plain": [
       "    Infinitive          Past      Present Intran|Tran\n",
       "0  پێداکردنەوە  پێدا_کرد_ەوە  پێدا_کە_ەوە           1\n",
       "1     پێداکردن      پێدا_کرد      پێدا_کە           1\n",
       "2  پێوەکردنەوە  پێوە_کرد_ەوە  پێوە_کە_ەوە           1\n",
       "3     پێوەکردن      پێوە_کرد      پێوە_کە           1\n",
       "4  تێداکردنەوە  تێدا_کرد_ەوە  تێدا_کە_ەوە           1"
      ]
     },
     "execution_count": 23,
     "metadata": {},
     "output_type": "execute_result"
    }
   ],
   "source": [
    "generated_df.head(5)"
   ]
  },
  {
   "cell_type": "code",
   "execution_count": 24,
   "id": "a6f5d00e",
   "metadata": {},
   "outputs": [],
   "source": [
    "df_verb_to_text_file(generated_df, \"CKB (complex verbs).txt\")"
   ]
  },
  {
   "cell_type": "code",
   "execution_count": null,
   "id": "6b727d64",
   "metadata": {},
   "outputs": [],
   "source": []
  },
  {
   "cell_type": "code",
   "execution_count": null,
   "id": "410c18d8",
   "metadata": {},
   "outputs": [],
   "source": []
  },
  {
   "cell_type": "code",
   "execution_count": null,
   "id": "d2a00de0",
   "metadata": {},
   "outputs": [],
   "source": []
  },
  {
   "cell_type": "code",
   "execution_count": null,
   "id": "45fddc85",
   "metadata": {},
   "outputs": [],
   "source": []
  }
 ],
 "metadata": {
  "kernelspec": {
   "display_name": "Python 3",
   "language": "python",
   "name": "python3"
  },
  "language_info": {
   "codemirror_mode": {
    "name": "ipython",
    "version": 3
   },
   "file_extension": ".py",
   "mimetype": "text/x-python",
   "name": "python",
   "nbconvert_exporter": "python",
   "pygments_lexer": "ipython3",
   "version": "3.6.13"
  }
 },
 "nbformat": 4,
 "nbformat_minor": 5
}
